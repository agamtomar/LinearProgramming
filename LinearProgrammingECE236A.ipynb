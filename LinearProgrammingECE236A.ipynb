{
 "cells": [
  {
   "cell_type": "markdown",
   "metadata": {},
   "source": [
    "# ECE 236A Linear programming \n",
    "## Lecture Problems and Additional Codes using cvxpy"
   ]
  },
  {
   "cell_type": "code",
   "execution_count": 7,
   "metadata": {},
   "outputs": [],
   "source": [
    "import cvxpy as cvx\n",
    "import numpy as np"
   ]
  },
  {
   "cell_type": "markdown",
   "metadata": {},
   "source": [
    "### Page 3 (Notes)"
   ]
  },
  {
   "cell_type": "code",
   "execution_count": 8,
   "metadata": {},
   "outputs": [],
   "source": [
    "X = cvx.Variable(shape=(2,1))\n",
    "\n",
    "Objective = cvx.Maximize(10*X[0] - X[1])\n",
    "\n",
    "Constraints = [X[0] >= 100,\n",
    "               X[0] <= 400,\n",
    "               X[1] >= 100,\n",
    "               X[1] <= 300,\n",
    "               X[0]+X[1] >= 250,\n",
    "               X[0] >= 0, X[1] >= 0]\n",
    "\n",
    "Problem = cvx.Problem(objective=Objective, constraints=Constraints)\n",
    "\n",
    "result = Problem.solve()"
   ]
  },
  {
   "cell_type": "code",
   "execution_count": 9,
   "metadata": {},
   "outputs": [
    {
     "name": "stdout",
     "output_type": "stream",
     "text": [
      "Optimum X: [[400.]\n",
      " [100.]]\n"
     ]
    }
   ],
   "source": [
    "print(f'Optimum X: {X.value}')"
   ]
  },
  {
   "cell_type": "markdown",
   "metadata": {},
   "source": [
    "### Integer Programming "
   ]
  },
  {
   "cell_type": "markdown",
   "metadata": {},
   "source": [
    "Maximize $8x_1$ + $11x_2$ + $6x_3$ + $4x_4$\n",
    "\n",
    "subject to $5x_1$ + $7x_2$ + $4x_3$ + $3x_4$ ≤ 14\n",
    "\n",
    "$x_j$ ∈ {0, 1} j = 1,... 4."
   ]
  },
  {
   "cell_type": "code",
   "execution_count": 10,
   "metadata": {},
   "outputs": [
    {
     "name": "stdout",
     "output_type": "stream",
     "text": [
      "22.0 [[1.00000000e+00]\n",
      " [1.00000000e+00]\n",
      " [5.00000000e-01]\n",
      " [5.10934925e-23]]\n"
     ]
    }
   ],
   "source": [
    "# Usual Approach (Non Integral Solutions)\n",
    "X = cvx.Variable(shape=(4, 1))\n",
    "A = np.array([8, 11, 6, 4])\n",
    "c = np.array([5, 7, 4, 3])\n",
    "\n",
    "Objective = cvx.Maximize(A*X)\n",
    "\n",
    "Constraints = [c*X <= 14, X >=0, X <= 1]\n",
    "\n",
    "Problem = cvx.Problem(Objective, Constraints)\n",
    "\n",
    "result = Problem.solve()\n",
    "\n",
    "print(result, X.value)"
   ]
  },
  {
   "cell_type": "code",
   "execution_count": 11,
   "metadata": {},
   "outputs": [
    {
     "name": "stdout",
     "output_type": "stream",
     "text": [
      "21.00000000464075 [[7.10686553e-10]\n",
      " [1.00000000e+00]\n",
      " [1.00000000e+00]\n",
      " [9.99999997e-01]]\n"
     ]
    }
   ],
   "source": [
    "# To get Integral Answers\n",
    "X = cvx.Variable(shape=(4, 1), boolean=True)\n",
    "A = np.array([8, 11, 6, 4])\n",
    "c = np.array([5, 7, 4, 3])\n",
    "\n",
    "Objective = cvx.Maximize(A*X)\n",
    "\n",
    "Constraints = [c*X <= 14]\n",
    "\n",
    "Problem = cvx.Problem(Objective, Constraints)\n",
    "\n",
    "result = Problem.solve()\n",
    "\n",
    "print(result, X.value)"
   ]
  },
  {
   "cell_type": "code",
   "execution_count": null,
   "metadata": {},
   "outputs": [],
   "source": []
  }
 ],
 "metadata": {
  "kernelspec": {
   "display_name": "Python 3",
   "language": "python",
   "name": "python3"
  },
  "language_info": {
   "codemirror_mode": {
    "name": "ipython",
    "version": 3
   },
   "file_extension": ".py",
   "mimetype": "text/x-python",
   "name": "python",
   "nbconvert_exporter": "python",
   "pygments_lexer": "ipython3",
   "version": "3.6.5"
  }
 },
 "nbformat": 4,
 "nbformat_minor": 2
}
