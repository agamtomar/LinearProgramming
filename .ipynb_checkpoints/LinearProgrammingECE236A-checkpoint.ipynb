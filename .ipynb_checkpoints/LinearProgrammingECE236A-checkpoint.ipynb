{
 "cells": [
  {
   "cell_type": "markdown",
   "metadata": {},
   "source": [
    "# ECE 236A Linear programming \n",
    "## Lecture Problems and Additional Codes using cvxpy"
   ]
  },
  {
   "cell_type": "code",
   "execution_count": 1,
   "metadata": {},
   "outputs": [],
   "source": [
    "import cvxpy as cvx"
   ]
  },
  {
   "cell_type": "markdown",
   "metadata": {},
   "source": [
    "### Page 3 (Notes)"
   ]
  },
  {
   "cell_type": "code",
   "execution_count": 2,
   "metadata": {},
   "outputs": [],
   "source": [
    "X = cvx.Variable(shape=(2,1))\n",
    "\n",
    "Objective = cvx.Maximize(10*X[0] - X[1])\n",
    "\n",
    "Constraints = [X[0] >= 100,\n",
    "               X[0] <= 400,\n",
    "               X[1] >= 100,\n",
    "               X[1] <= 300,\n",
    "               X[0]+X[1] >= 250,\n",
    "               X[0] >= 0, X[1] >= 0]\n",
    "\n",
    "Problem = cvx.Problem(objective=Objective, constraints=Constraints)\n",
    "\n",
    "result = Problem.solve()"
   ]
  },
  {
   "cell_type": "code",
   "execution_count": 5,
   "metadata": {},
   "outputs": [
    {
     "name": "stdout",
     "output_type": "stream",
     "text": [
      "Optimum X: [[400.]\n",
      " [100.]]\n"
     ]
    }
   ],
   "source": [
    "print(f'Optimum X: {X.value}')"
   ]
  },
  {
   "cell_type": "code",
   "execution_count": null,
   "metadata": {},
   "outputs": [],
   "source": []
  }
 ],
 "metadata": {
  "kernelspec": {
   "display_name": "Python 3",
   "language": "python",
   "name": "python3"
  },
  "language_info": {
   "codemirror_mode": {
    "name": "ipython",
    "version": 3
   },
   "file_extension": ".py",
   "mimetype": "text/x-python",
   "name": "python",
   "nbconvert_exporter": "python",
   "pygments_lexer": "ipython3",
   "version": "3.6.5"
  }
 },
 "nbformat": 4,
 "nbformat_minor": 2
}
